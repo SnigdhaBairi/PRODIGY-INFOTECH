{
 "cells": [
  {
   "cell_type": "code",
   "execution_count": 1,
   "id": "a943c36b",
   "metadata": {
    "execution": {
     "iopub.execute_input": "2023-10-09T17:51:45.895170Z",
     "iopub.status.busy": "2023-10-09T17:51:45.894416Z",
     "iopub.status.idle": "2023-10-09T17:51:56.325128Z",
     "shell.execute_reply": "2023-10-09T17:51:56.323989Z"
    },
    "papermill": {
     "duration": 10.442987,
     "end_time": "2023-10-09T17:51:56.327891",
     "exception": false,
     "start_time": "2023-10-09T17:51:45.884904",
     "status": "completed"
    },
    "tags": []
   },
   "outputs": [],
   "source": [
    "import pandas as pd\n",
    "import numpy as np\n",
    "import tensorflow as tf\n",
    "\n",
    "import warnings\n",
    "warnings.filterwarnings('ignore')"
   ]
  },
  {
   "cell_type": "code",
   "execution_count": 2,
   "id": "404b75fc",
   "metadata": {
    "execution": {
     "iopub.execute_input": "2023-10-09T17:51:56.339553Z",
     "iopub.status.busy": "2023-10-09T17:51:56.338877Z",
     "iopub.status.idle": "2023-10-09T17:51:56.362078Z",
     "shell.execute_reply": "2023-10-09T17:51:56.361143Z"
    },
    "papermill": {
     "duration": 0.031868,
     "end_time": "2023-10-09T17:51:56.364820",
     "exception": false,
     "start_time": "2023-10-09T17:51:56.332952",
     "status": "completed"
    },
    "tags": []
   },
   "outputs": [],
   "source": [
    "from tensorflow.compat.v1 import ConfigProto\n",
    "from tensorflow.compat.v1 import InteractiveSession\n",
    "\n",
    "config = ConfigProto()\n",
    "config.gpu_options.per_process_gpu_memory_fraction = 0.6\n",
    "config.gpu_options.allow_growth = True\n",
    "session = InteractiveSession(config = config)"
   ]
  },
  {
   "cell_type": "code",
   "execution_count": 3,
   "id": "f400bfc8",
   "metadata": {
    "execution": {
     "iopub.execute_input": "2023-10-09T17:51:56.375674Z",
     "iopub.status.busy": "2023-10-09T17:51:56.375259Z",
     "iopub.status.idle": "2023-10-09T17:52:01.955516Z",
     "shell.execute_reply": "2023-10-09T17:52:01.954487Z"
    },
    "papermill": {
     "duration": 5.588677,
     "end_time": "2023-10-09T17:52:01.958239",
     "exception": false,
     "start_time": "2023-10-09T17:51:56.369562",
     "status": "completed"
    },
    "tags": []
   },
   "outputs": [
    {
     "name": "stdout",
     "output_type": "stream",
     "text": [
      "Found 10028 images belonging to 2 classes.\n"
     ]
    }
   ],
   "source": [
    "from tensorflow.keras.preprocessing.image import ImageDataGenerator\n",
    "datagen = ImageDataGenerator(rescale=1./255, shear_range=0.2, zoom_range=0.2, horizontal_flip=True)\n",
    "\n",
    "training_set = datagen.flow_from_directory(\"/kaggle/input/cat-and-dog\", target_size=(64, 64), batch_size = 32, class_mode=\"binary\")"
   ]
  },
  {
   "cell_type": "code",
   "execution_count": 4,
   "id": "0584b9d9",
   "metadata": {
    "execution": {
     "iopub.execute_input": "2023-10-09T17:52:01.970956Z",
     "iopub.status.busy": "2023-10-09T17:52:01.970240Z",
     "iopub.status.idle": "2023-10-09T17:52:03.626531Z",
     "shell.execute_reply": "2023-10-09T17:52:03.625047Z"
    },
    "papermill": {
     "duration": 1.665912,
     "end_time": "2023-10-09T17:52:03.629319",
     "exception": false,
     "start_time": "2023-10-09T17:52:01.963407",
     "status": "completed"
    },
    "tags": []
   },
   "outputs": [
    {
     "name": "stdout",
     "output_type": "stream",
     "text": [
      "Found 10028 images belonging to 2 classes.\n"
     ]
    }
   ],
   "source": [
    "datagen1 = ImageDataGenerator(rescale = 1./255)\n",
    "\n",
    "test_set = datagen1.flow_from_directory(\"/kaggle/input/cat-and-dog\", target_size=(64, 64), batch_size = 32, class_mode=\"binary\")"
   ]
  },
  {
   "cell_type": "code",
   "execution_count": 5,
   "id": "d3df18f9",
   "metadata": {
    "execution": {
     "iopub.execute_input": "2023-10-09T17:52:03.641764Z",
     "iopub.status.busy": "2023-10-09T17:52:03.641339Z",
     "iopub.status.idle": "2023-10-09T17:52:03.648428Z",
     "shell.execute_reply": "2023-10-09T17:52:03.646952Z"
    },
    "papermill": {
     "duration": 0.016801,
     "end_time": "2023-10-09T17:52:03.651318",
     "exception": false,
     "start_time": "2023-10-09T17:52:03.634517",
     "status": "completed"
    },
    "tags": []
   },
   "outputs": [],
   "source": [
    "from tensorflow.keras.layers import Conv2D\n",
    "from tensorflow.keras.layers import Dense"
   ]
  },
  {
   "cell_type": "code",
   "execution_count": 6,
   "id": "1407a060",
   "metadata": {
    "execution": {
     "iopub.execute_input": "2023-10-09T17:52:03.663602Z",
     "iopub.status.busy": "2023-10-09T17:52:03.663007Z",
     "iopub.status.idle": "2023-10-09T17:52:03.669883Z",
     "shell.execute_reply": "2023-10-09T17:52:03.668667Z"
    },
    "papermill": {
     "duration": 0.016006,
     "end_time": "2023-10-09T17:52:03.672174",
     "exception": false,
     "start_time": "2023-10-09T17:52:03.656168",
     "status": "completed"
    },
    "tags": []
   },
   "outputs": [],
   "source": [
    "from tensorflow.keras.regularizers import l2"
   ]
  },
  {
   "cell_type": "code",
   "execution_count": 7,
   "id": "ca2e8132",
   "metadata": {
    "execution": {
     "iopub.execute_input": "2023-10-09T17:52:03.683955Z",
     "iopub.status.busy": "2023-10-09T17:52:03.682888Z",
     "iopub.status.idle": "2023-10-09T17:52:03.779958Z",
     "shell.execute_reply": "2023-10-09T17:52:03.778165Z"
    },
    "papermill": {
     "duration": 0.106278,
     "end_time": "2023-10-09T17:52:03.782954",
     "exception": false,
     "start_time": "2023-10-09T17:52:03.676676",
     "status": "completed"
    },
    "tags": []
   },
   "outputs": [],
   "source": [
    "cnn = tf.keras.models.Sequential()"
   ]
  },
  {
   "cell_type": "code",
   "execution_count": 8,
   "id": "d8876242",
   "metadata": {
    "execution": {
     "iopub.execute_input": "2023-10-09T17:52:03.795247Z",
     "iopub.status.busy": "2023-10-09T17:52:03.794633Z",
     "iopub.status.idle": "2023-10-09T17:52:03.861028Z",
     "shell.execute_reply": "2023-10-09T17:52:03.859813Z"
    },
    "papermill": {
     "duration": 0.075551,
     "end_time": "2023-10-09T17:52:03.863806",
     "exception": false,
     "start_time": "2023-10-09T17:52:03.788255",
     "status": "completed"
    },
    "tags": []
   },
   "outputs": [],
   "source": [
    "cnn.add(tf.keras.layers.Conv2D(filters=32, padding=\"same\", kernel_size=3, activation='relu', strides=2, input_shape=[64, 64, 3]))"
   ]
  },
  {
   "cell_type": "code",
   "execution_count": 9,
   "id": "02fa3ce5",
   "metadata": {
    "execution": {
     "iopub.execute_input": "2023-10-09T17:52:03.876301Z",
     "iopub.status.busy": "2023-10-09T17:52:03.875618Z",
     "iopub.status.idle": "2023-10-09T17:52:03.886744Z",
     "shell.execute_reply": "2023-10-09T17:52:03.885890Z"
    },
    "papermill": {
     "duration": 0.020612,
     "end_time": "2023-10-09T17:52:03.889255",
     "exception": false,
     "start_time": "2023-10-09T17:52:03.868643",
     "status": "completed"
    },
    "tags": []
   },
   "outputs": [],
   "source": [
    "cnn.add(tf.keras.layers.MaxPool2D(pool_size=2, strides=2))"
   ]
  },
  {
   "cell_type": "code",
   "execution_count": 10,
   "id": "32360fc7",
   "metadata": {
    "execution": {
     "iopub.execute_input": "2023-10-09T17:52:03.901336Z",
     "iopub.status.busy": "2023-10-09T17:52:03.900395Z",
     "iopub.status.idle": "2023-10-09T17:52:03.927223Z",
     "shell.execute_reply": "2023-10-09T17:52:03.925838Z"
    },
    "papermill": {
     "duration": 0.035857,
     "end_time": "2023-10-09T17:52:03.929901",
     "exception": false,
     "start_time": "2023-10-09T17:52:03.894044",
     "status": "completed"
    },
    "tags": []
   },
   "outputs": [],
   "source": [
    "cnn.add(tf.keras.layers.Conv2D(filters=32, padding=\"same\",kernel_size=3,activation='relu'))\n",
    "cnn.add(tf.keras.layers.MaxPool2D(pool_size=2, strides=2))"
   ]
  },
  {
   "cell_type": "code",
   "execution_count": 11,
   "id": "18a583f4",
   "metadata": {
    "execution": {
     "iopub.execute_input": "2023-10-09T17:52:03.941463Z",
     "iopub.status.busy": "2023-10-09T17:52:03.941075Z",
     "iopub.status.idle": "2023-10-09T17:52:03.953398Z",
     "shell.execute_reply": "2023-10-09T17:52:03.952166Z"
    },
    "papermill": {
     "duration": 0.021348,
     "end_time": "2023-10-09T17:52:03.956072",
     "exception": false,
     "start_time": "2023-10-09T17:52:03.934724",
     "status": "completed"
    },
    "tags": []
   },
   "outputs": [],
   "source": [
    "cnn.add(tf.keras.layers.Flatten())"
   ]
  },
  {
   "cell_type": "code",
   "execution_count": 12,
   "id": "9f4a9e94",
   "metadata": {
    "execution": {
     "iopub.execute_input": "2023-10-09T17:52:03.967003Z",
     "iopub.status.busy": "2023-10-09T17:52:03.966637Z",
     "iopub.status.idle": "2023-10-09T17:52:03.998764Z",
     "shell.execute_reply": "2023-10-09T17:52:03.997368Z"
    },
    "papermill": {
     "duration": 0.040934,
     "end_time": "2023-10-09T17:52:04.001710",
     "exception": false,
     "start_time": "2023-10-09T17:52:03.960776",
     "status": "completed"
    },
    "tags": []
   },
   "outputs": [],
   "source": [
    "cnn.add(tf.keras.layers.Dense(units = 128, activation = 'relu'))"
   ]
  },
  {
   "cell_type": "code",
   "execution_count": 13,
   "id": "a2d6857f",
   "metadata": {
    "execution": {
     "iopub.execute_input": "2023-10-09T17:52:04.012675Z",
     "iopub.status.busy": "2023-10-09T17:52:04.012278Z",
     "iopub.status.idle": "2023-10-09T17:52:04.039969Z",
     "shell.execute_reply": "2023-10-09T17:52:04.038745Z"
    },
    "papermill": {
     "duration": 0.036204,
     "end_time": "2023-10-09T17:52:04.042439",
     "exception": false,
     "start_time": "2023-10-09T17:52:04.006235",
     "status": "completed"
    },
    "tags": []
   },
   "outputs": [],
   "source": [
    "cnn.add(Dense(1, kernel_regularizer = tf.keras.regularizers.l2(0.01), activation\n",
    "              ='linear'))"
   ]
  },
  {
   "cell_type": "code",
   "execution_count": 14,
   "id": "701d1bfd",
   "metadata": {
    "execution": {
     "iopub.execute_input": "2023-10-09T17:52:04.053282Z",
     "iopub.status.busy": "2023-10-09T17:52:04.052644Z",
     "iopub.status.idle": "2023-10-09T17:52:04.086346Z",
     "shell.execute_reply": "2023-10-09T17:52:04.084611Z"
    },
    "papermill": {
     "duration": 0.041566,
     "end_time": "2023-10-09T17:52:04.088420",
     "exception": false,
     "start_time": "2023-10-09T17:52:04.046854",
     "status": "completed"
    },
    "tags": []
   },
   "outputs": [
    {
     "name": "stdout",
     "output_type": "stream",
     "text": [
      "Model: \"sequential\"\n",
      "_________________________________________________________________\n",
      " Layer (type)                Output Shape              Param #   \n",
      "=================================================================\n",
      " conv2d (Conv2D)             (None, 32, 32, 32)        896       \n",
      "                                                                 \n",
      " max_pooling2d (MaxPooling2D  (None, 16, 16, 32)       0         \n",
      " )                                                               \n",
      "                                                                 \n",
      " conv2d_1 (Conv2D)           (None, 16, 16, 32)        9248      \n",
      "                                                                 \n",
      " max_pooling2d_1 (MaxPooling  (None, 8, 8, 32)         0         \n",
      " 2D)                                                             \n",
      "                                                                 \n",
      " flatten (Flatten)           (None, 2048)              0         \n",
      "                                                                 \n",
      " dense (Dense)               (None, 128)               262272    \n",
      "                                                                 \n",
      " dense_1 (Dense)             (None, 1)                 129       \n",
      "                                                                 \n",
      "=================================================================\n",
      "Total params: 272,545\n",
      "Trainable params: 272,545\n",
      "Non-trainable params: 0\n",
      "_________________________________________________________________\n"
     ]
    }
   ],
   "source": [
    "cnn.summary()"
   ]
  },
  {
   "cell_type": "code",
   "execution_count": 15,
   "id": "9523c379",
   "metadata": {
    "execution": {
     "iopub.execute_input": "2023-10-09T17:52:04.102340Z",
     "iopub.status.busy": "2023-10-09T17:52:04.101855Z",
     "iopub.status.idle": "2023-10-09T17:52:04.123532Z",
     "shell.execute_reply": "2023-10-09T17:52:04.122305Z"
    },
    "papermill": {
     "duration": 0.031857,
     "end_time": "2023-10-09T17:52:04.125992",
     "exception": false,
     "start_time": "2023-10-09T17:52:04.094135",
     "status": "completed"
    },
    "tags": []
   },
   "outputs": [],
   "source": [
    "cnn.compile(optimizer = 'adam', loss = 'hinge', metrics = ['accuracy'] )"
   ]
  },
  {
   "cell_type": "code",
   "execution_count": 16,
   "id": "66c5eb7f",
   "metadata": {
    "execution": {
     "iopub.execute_input": "2023-10-09T17:52:04.139492Z",
     "iopub.status.busy": "2023-10-09T17:52:04.139026Z",
     "iopub.status.idle": "2023-10-09T18:13:08.137687Z",
     "shell.execute_reply": "2023-10-09T18:13:08.136533Z"
    },
    "papermill": {
     "duration": 1264.272864,
     "end_time": "2023-10-09T18:13:08.404527",
     "exception": false,
     "start_time": "2023-10-09T17:52:04.131663",
     "status": "completed"
    },
    "tags": []
   },
   "outputs": [
    {
     "name": "stdout",
     "output_type": "stream",
     "text": [
      "Epoch 1/15\n",
      "314/314 [==============================] - 90s 282ms/step - loss: 0.4458 - accuracy: 0.7956 - val_loss: 0.4262 - val_accuracy: 0.7983\n",
      "Epoch 2/15\n",
      "314/314 [==============================] - 61s 195ms/step - loss: 0.4173 - accuracy: 0.7983 - val_loss: 0.4106 - val_accuracy: 0.7983\n",
      "Epoch 3/15\n",
      "314/314 [==============================] - 81s 258ms/step - loss: 0.4157 - accuracy: 0.7983 - val_loss: 0.4105 - val_accuracy: 0.7983\n",
      "Epoch 4/15\n",
      "314/314 [==============================] - 81s 259ms/step - loss: 0.4118 - accuracy: 0.7983 - val_loss: 0.4085 - val_accuracy: 0.7983\n",
      "Epoch 5/15\n",
      "314/314 [==============================] - 63s 201ms/step - loss: 0.4099 - accuracy: 0.7983 - val_loss: 0.4078 - val_accuracy: 0.7983\n",
      "Epoch 6/15\n",
      "314/314 [==============================] - 81s 260ms/step - loss: 0.4098 - accuracy: 0.7983 - val_loss: 0.4108 - val_accuracy: 0.7983\n",
      "Epoch 7/15\n",
      "314/314 [==============================] - 80s 255ms/step - loss: 0.4088 - accuracy: 0.7983 - val_loss: 0.4069 - val_accuracy: 0.7983\n",
      "Epoch 8/15\n",
      "314/314 [==============================] - 81s 259ms/step - loss: 0.4077 - accuracy: 0.7983 - val_loss: 0.4065 - val_accuracy: 0.7983\n",
      "Epoch 9/15\n",
      "314/314 [==============================] - 60s 191ms/step - loss: 0.4074 - accuracy: 0.7983 - val_loss: 0.4075 - val_accuracy: 0.7983\n",
      "Epoch 10/15\n",
      "314/314 [==============================] - 60s 190ms/step - loss: 0.4076 - accuracy: 0.7983 - val_loss: 0.4061 - val_accuracy: 0.7983\n",
      "Epoch 11/15\n",
      "314/314 [==============================] - 60s 190ms/step - loss: 0.4077 - accuracy: 0.7983 - val_loss: 0.4125 - val_accuracy: 0.7983\n",
      "Epoch 12/15\n",
      "314/314 [==============================] - 79s 251ms/step - loss: 0.4070 - accuracy: 0.7983 - val_loss: 0.4077 - val_accuracy: 0.7983\n",
      "Epoch 13/15\n",
      "314/314 [==============================] - 60s 190ms/step - loss: 0.4066 - accuracy: 0.7983 - val_loss: 0.4063 - val_accuracy: 0.7983\n",
      "Epoch 14/15\n",
      "314/314 [==============================] - 59s 189ms/step - loss: 0.4064 - accuracy: 0.7983 - val_loss: 0.4058 - val_accuracy: 0.7983\n",
      "Epoch 15/15\n",
      "314/314 [==============================] - 80s 256ms/step - loss: 0.4068 - accuracy: 0.7983 - val_loss: 0.4063 - val_accuracy: 0.7983\n"
     ]
    }
   ],
   "source": [
    "r = cnn.fit(x = training_set, validation_data = test_set, epochs = 15)"
   ]
  },
  {
   "cell_type": "code",
   "execution_count": 17,
   "id": "36b43457",
   "metadata": {
    "execution": {
     "iopub.execute_input": "2023-10-09T18:13:08.927940Z",
     "iopub.status.busy": "2023-10-09T18:13:08.927201Z",
     "iopub.status.idle": "2023-10-09T18:13:09.501810Z",
     "shell.execute_reply": "2023-10-09T18:13:09.500247Z"
    },
    "papermill": {
     "duration": 0.836669,
     "end_time": "2023-10-09T18:13:09.504172",
     "exception": false,
     "start_time": "2023-10-09T18:13:08.667503",
     "status": "completed"
    },
    "tags": []
   },
   "outputs": [
    {
     "data": {
      "image/png": "[encoded data removed]",
      "text/plain": [
       "<Figure size 640x480 with 1 Axes>"
      ]
     },
     "metadata": {},
     "output_type": "display_data"
    },
    {
     "data": {
      "image/png": "[encoded data removed]",
      "text/plain": [
       "<Figure size 640x480 with 1 Axes>"
      ]
     },
     "metadata": {},
     "output_type": "display_data"
    }
   ],
   "source": [
    "import matplotlib.pyplot as plt\n",
    "plt.plot(r.history['loss'], label='train loss')\n",
    "plt.plot(r.history['val_loss'], label='val loss')\n",
    "plt.legend()\n",
    "plt.show()\n",
    "\n",
    "plt.plot(r.history['accuracy'], label = 'train acc')\n",
    "plt.plot(r.history['val_accuracy'], label = 'val acc')\n",
    "plt.legend()\n",
    "plt.show()"
   ]
  },
  {
   "cell_type": "code",
   "execution_count": 18,
   "id": "ab715a53",
   "metadata": {
    "execution": {
     "iopub.execute_input": "2023-10-09T18:13:10.146294Z",
     "iopub.status.busy": "2023-10-09T18:13:10.144832Z",
     "iopub.status.idle": "2023-10-09T18:13:10.196734Z",
     "shell.execute_reply": "2023-10-09T18:13:10.195075Z"
    },
    "papermill": {
     "duration": 0.424203,
     "end_time": "2023-10-09T18:13:10.199748",
     "exception": false,
     "start_time": "2023-10-09T18:13:09.775545",
     "status": "completed"
    },
    "tags": []
   },
   "outputs": [],
   "source": [
    "from tensorflow.keras.models import load_model\n",
    "\n",
    "cnn.save('./model_rcat_dog.h5')"
   ]
  },
  {
   "cell_type": "code",
   "execution_count": 19,
   "id": "bd0fc0c6",
   "metadata": {
    "execution": {
     "iopub.execute_input": "2023-10-09T18:13:10.738037Z",
     "iopub.status.busy": "2023-10-09T18:13:10.737350Z",
     "iopub.status.idle": "2023-10-09T18:13:10.937219Z",
     "shell.execute_reply": "2023-10-09T18:13:10.936148Z"
    },
    "papermill": {
     "duration": 0.474018,
     "end_time": "2023-10-09T18:13:10.939573",
     "exception": false,
     "start_time": "2023-10-09T18:13:10.465555",
     "status": "completed"
    },
    "tags": []
   },
   "outputs": [
    {
     "name": "stdout",
     "output_type": "stream",
     "text": [
      "1/1 [==============================] - 0s 118ms/step\n"
     ]
    }
   ],
   "source": [
    "from tensorflow.keras.preprocessing import image\n",
    "test_image = image.load_img('../input/cat-and-dog/training_set/training_set/dogs/dog.2100.jpg', target_size = (64,64))\n",
    "test_image = image.img_to_array(test_image)\n",
    "test_image=test_image/255\n",
    "test_image = np.expand_dims(test_image, axis = 0)\n",
    "result = cnn.predict(test_image)"
   ]
  },
  {
   "cell_type": "code",
   "execution_count": 20,
   "id": "46f28dda",
   "metadata": {
    "execution": {
     "iopub.execute_input": "2023-10-09T18:13:11.473489Z",
     "iopub.status.busy": "2023-10-09T18:13:11.473102Z",
     "iopub.status.idle": "2023-10-09T18:13:11.478003Z",
     "shell.execute_reply": "2023-10-09T18:13:11.477185Z"
    },
    "papermill": {
     "duration": 0.278619,
     "end_time": "2023-10-09T18:13:11.481375",
     "exception": false,
     "start_time": "2023-10-09T18:13:11.202756",
     "status": "completed"
    },
    "tags": []
   },
   "outputs": [
    {
     "name": "stdout",
     "output_type": "stream",
     "text": [
      "The image classified is dog\n"
     ]
    }
   ],
   "source": [
    "if result[0]<0:\n",
    "    print(\"The image classified is cat\")\n",
    "else:\n",
    "    print(\"The image classified is dog\")"
   ]
  }
 ],
 "metadata": {
  "kernelspec": {
   "display_name": "Python 3",
   "language": "python",
   "name": "python3"
  },
  "language_info": {
   "codemirror_mode": {
    "name": "ipython",
    "version": 3
   },
   "file_extension": ".py",
   "mimetype": "text/x-python",
   "name": "python",
   "nbconvert_exporter": "python",
   "pygments_lexer": "ipython3",
   "version": "3.10.12"
  },
  "papermill": {
   "default_parameters": {},
   "duration": 1292.152465,
   "end_time": "2023-10-09T18:13:14.597957",
   "environment_variables": {},
   "exception": null,
   "input_path": "__notebook__.ipynb",
   "output_path": "__notebook__.ipynb",
   "parameters": {},
   "start_time": "2023-10-09T17:51:42.445492",
   "version": "2.4.0"
  }
 },
 "nbformat": 4,
 "nbformat_minor": 5
}
